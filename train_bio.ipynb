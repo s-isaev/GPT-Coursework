{
 "cells": [
  {
   "cell_type": "code",
   "execution_count": 1,
   "metadata": {
    "colab": {
     "base_uri": "https://localhost:8080/"
    },
    "executionInfo": {
     "elapsed": 4207,
     "status": "ok",
     "timestamp": 1616796771880,
     "user": {
      "displayName": "Сергей Исаев",
      "photoUrl": "",
      "userId": "16125203624123721798"
     },
     "user_tz": -180
    },
    "id": "RwOr5YYMV84d",
    "outputId": "1ea310ec-95b2-48bb-c224-fb0b2b168423"
   },
   "outputs": [],
   "source": [
    "# gptname = 'gpt2' #small\n",
    "gptname = 'gpt2-xl'\n",
    "\n",
    "colab = False\n",
    "enablenews = True\n",
    "external_save = True\n",
    "enable_trash = True\n",
    "\n",
    "# large\n",
    "# lrmult = 0.5\n",
    "# xl\n",
    "lrmult = 0.1\n",
    "accumn = 10\n",
    "devicename = 'cpu'\n",
    "\n",
    "if not colab:\n",
    "    filepath = '.'\n",
    "else:\n",
    "    filepath = '/content/drive/MyDrive/bio'\n",
    "    ! pip3 install transformers\n",
    "    from google.colab import drive\n",
    "    drive.mount('/content/drive')\n",
    " \n",
    "import sys\n",
    "sys.path.append(filepath + '/utils')\n",
    "sys.path.append(filepath + '/dataset')"
   ]
  },
  {
   "cell_type": "code",
   "execution_count": 2,
   "metadata": {
    "executionInfo": {
     "elapsed": 6721,
     "status": "ok",
     "timestamp": 1616796774401,
     "user": {
      "displayName": "Сергей Исаев",
      "photoUrl": "",
      "userId": "16125203624123721798"
     },
     "user_tz": -180
    },
    "id": "BVCW49weV84f"
   },
   "outputs": [],
   "source": [
    "import argparse, json, os, pickle, random, time, numpy as np, transformers, torch\n",
    "\n",
    "from transformers import GPT2Config, GPT2LMHeadModel,AdamW, GPT2Tokenizer\n",
    "from torch.nn import CrossEntropyLoss\n",
    "from torch.utils.data import DataLoader, RandomSampler, SequentialSampler\n",
    "from tqdm.notebook import tnrange, tqdm\n",
    "\n",
    "from utils import SummarizationDataset, FineTuningDataset, get_tokenizer, generate_sample, sample_seq, set_seed, top_k_top_p_filtering"
   ]
  },
  {
   "cell_type": "code",
   "execution_count": 3,
   "metadata": {
    "executionInfo": {
     "elapsed": 6717,
     "status": "ok",
     "timestamp": 1616796774402,
     "user": {
      "displayName": "Сергей Исаев",
      "photoUrl": "",
      "userId": "16125203624123721798"
     },
     "user_tz": -180
    },
    "id": "6jCi7KZ5WeWW"
   },
   "outputs": [],
   "source": [
    "parser = argparse.ArgumentParser()\n",
    "parser.add_argument(\"--lr\",default=5e-5, type=float, help=\"learning rate\")\n",
    "parser.add_argument(\"--seed\",default=42, type=int,  help=\"seed to replicate results\")\n",
    "parser.add_argument(\"--n_gpu\",default=1, type=int,  help=\"no of gpu available\")\n",
    "parser.add_argument(\"--gradient_accumulation_steps\",default=10, type=int, help=\"gradient_accumulation_steps\")\n",
    "parser.add_argument(\"--batch_size\",default=1, type=int,  help=\"batch_size\")\n",
    "parser.add_argument(\"--num_workers\",default=2, type=int,  help=\"num of cpus available\")\n",
    "parser.add_argument(\"--device\",default=torch.device(devicename), help=\"torch.device object\")\n",
    "parser.add_argument(\"--num_train_epochs\",default=1, type=int,  help=\"no of epochs of training\")\n",
    "if external_save:\n",
    "    parser.add_argument(\"--model_dir\", default='D:/external_weights', type=str,  help=\"path to save trained model\")\n",
    "else:\n",
    "    parser.add_argument(\"--model_dir\",default= filepath + '/weights', type=str,  help=\"path to save trained model\")\n",
    "parser.add_argument(\"--max_grad_norm\",default=1.0, type=float, help=\"max gradient norm.\")\n",
    "parser.add_argument(\"--root_dir\",default= filepath + '/bignews/gpt2_1024_data', type=str, help=\"location of json dataset.\")\n",
    "parser.add_argument(\"--ids_file\",default= filepath + '/bignews/ids.json', type=str, help=\"location of train, valid and test file indexes\")\n",
    "args = parser.parse_args([])\n",
    "\n",
    "\n",
    "if enablenews:\n",
    "    strnews = 'ye'\n",
    "else:\n",
    "    strnews = 'no'\n",
    "if enable_trash:\n",
    "    str_trash = 'ye'\n",
    "else:\n",
    "    str_trash = 'no'\n",
    "\n",
    "model_text = '_bio_{}_lr{}_accum{}_{}news_{}trash'.format(gptname, int(lrmult*100), accumn, strnews, str_trash)\n",
    "model_file = os.path.join(args.model_dir, 'model' + model_text + '.bin')\n",
    "config_file = os.path.join(args.model_dir, 'config' + model_text + '.json')\n",
    "log_file = os.path.join(args.model_dir, 'log' + model_text + '.txt')"
   ]
  },
  {
   "cell_type": "code",
   "execution_count": 4,
   "metadata": {},
   "outputs": [],
   "source": [
    "def evaluate(args, model, eval_dataset):\n",
    "    sumloss = 0.0\n",
    "    with torch.no_grad():\n",
    "        model.eval()\n",
    "        eval_dl = DataLoader(\n",
    "            eval_dataset, batch_size=args.batch_size, num_workers=args.num_workers)\n",
    "        loss_fct = CrossEntropyLoss()\n",
    "        \n",
    "        for batch in eval_dl:\n",
    "            inputs, labels = batch['article'].to(args.device), batch['article'].to(args.device)\n",
    "            logits = model(inputs)[0]\n",
    "            shift_logits = logits[..., batch['sum_idx']:-1, :].contiguous()\n",
    "            shift_labels = labels[..., batch['sum_idx']+1:].contiguous()\n",
    "            sumloss += loss_fct(shift_logits.view(-1, shift_logits.size(-1)), shift_labels.view(-1)).item()\n",
    "\n",
    "    return sumloss / len(eval_dataset)"
   ]
  },
  {
   "cell_type": "code",
   "execution_count": 5,
   "metadata": {
    "executionInfo": {
     "elapsed": 6712,
     "status": "ok",
     "timestamp": 1616796774402,
     "user": {
      "displayName": "Сергей Исаев",
      "photoUrl": "",
      "userId": "16125203624123721798"
     },
     "user_tz": -180
    },
    "id": "ujEjluwBWfmR"
   },
   "outputs": [],
   "source": [
    "def finetune(args, model, tokenizer, finetune_dataset, eval_dataset, model_file, config_file, log_file):\n",
    "    loss_fct = CrossEntropyLoss()\n",
    "    optimizer = AdamW(model.parameters(), lr=1*args.lr)\n",
    "    scheduler = transformers.get_linear_schedule_with_warmup(\n",
    "      optimizer, 0,\n",
    "      2*len(finetune_dataset)*args.num_train_epochs//args.gradient_accumulation_steps)\n",
    "    \n",
    "    sumloss = 0.0\n",
    "    log_text = ''\n",
    "\n",
    "    for epoch in range(args.num_train_epochs):\n",
    "      train_sampler = RandomSampler(finetune_dataset)\n",
    "      train_dl = DataLoader(\n",
    "        finetune_dataset,sampler=train_sampler,\n",
    "        batch_size=args.batch_size, num_workers=args.num_workers)\n",
    "      model.zero_grad()\n",
    "      set_seed(args)\n",
    "      epoch_iterator = tqdm(train_dl, desc=\"Training\")\n",
    "      for step, batch in enumerate(epoch_iterator):\n",
    "        if step % 50 == 0:\n",
    "          if step % args.gradient_accumulation_steps != 0:\n",
    "            print(\"Gradient loss!!!\")\n",
    "          \n",
    "          log_add = 'Step: {}; validation loss: {}'.format(\n",
    "            epoch*len(finetune_dataset) + step,\n",
    "            evaluate(args, model, eval_dataset))\n",
    "          log_text += log_add + '\\n'\n",
    "          print(log_add)\n",
    "          my_file = open(log_file, 'w')\n",
    "          my_file.write(log_text)\n",
    "          my_file.close()\n",
    "\n",
    "        inputs, labels = batch['article'].to(args.device), batch['article'].to(args.device)\n",
    "\n",
    "        # print(inputs.shape)\n",
    "        # print(tokenizer.decode(list(inputs[0])))\n",
    "\n",
    "        model.train()\n",
    "        logits = model(inputs)[0]\n",
    "        shift_logits = logits[..., batch['sum_idx']:-1, :].contiguous()\n",
    "        shift_labels = labels[..., batch['sum_idx']+1:].contiguous()\n",
    "        loss = loss_fct(shift_logits.view(-1, shift_logits.size(-1)), shift_labels.view(-1))\n",
    "        sumloss += float(loss.item())\n",
    "        loss = loss/args.gradient_accumulation_steps\n",
    "        loss.backward()\n",
    "        torch.nn.utils.clip_grad_norm_(model.parameters(), args.max_grad_norm)\n",
    "\n",
    "        if (step + 1) % args.gradient_accumulation_steps == 0:\n",
    "          optimizer.step()\n",
    "          scheduler.step()  # Update learning rate schedule\n",
    "          model.zero_grad()\n",
    "              \n",
    "        if (step + 1) % 10 == 0:\n",
    "          log_add = 'Step: {}; loss: {}'.format(\n",
    "            epoch*len(finetune_dataset)+step+1, sumloss/10)\n",
    "          sumloss = 0.0\n",
    "          log_text += log_add + '\\n'\n",
    "          print(log_add)\n",
    "          my_file = open(log_file, 'w')\n",
    "          my_file.write(log_text)\n",
    "          my_file.close()\n",
    "    return log_text"
   ]
  },
  {
   "cell_type": "code",
   "execution_count": 6,
   "metadata": {
    "executionInfo": {
     "elapsed": 39179,
     "status": "ok",
     "timestamp": 1616796806876,
     "user": {
      "displayName": "Сергей Исаев",
      "photoUrl": "",
      "userId": "16125203624123721798"
     },
     "user_tz": -180
    },
    "id": "PQb4uc0PXChv"
   },
   "outputs": [
    {
     "name": "stdout",
     "output_type": "stream",
     "text": [
      "210\n"
     ]
    },
    {
     "name": "stderr",
     "output_type": "stream",
     "text": [
      "[nltk_data] Downloading package punkt to\n",
      "[nltk_data]     C:\\Users\\Sergei\\AppData\\Roaming\\nltk_data...\n",
      "[nltk_data]   Package punkt is already up-to-date!\n"
     ]
    }
   ],
   "source": [
    "model_file_load = os.path.join(args.model_dir,  'model_data_summarization_{}_lr{}_accum{}.bin'.format(\n",
    "          gptname, int(lrmult*100), accumn))\n",
    "config_file_load = os.path.join(args.model_dir, 'config_data_summarization_{}_lr{}_accum{}.json'.format(\n",
    "          gptname, int(lrmult*100), accumn))\n",
    "\n",
    "config = GPT2Config.from_json_file(config_file_load)\n",
    "tokenizer = get_tokenizer(gptname)\n",
    "model = GPT2LMHeadModel(config)\n",
    "state_dict = torch.load(model_file_load, map_location=args.device)\n",
    "_ = model.load_state_dict(state_dict)\n",
    "_ = model.to(args.device)\n",
    "print(len(FineTuningDataset(filepath + '/dataset', tokenizer, mode='train', addnews=enablenews)))\n",
    "finetune_data = FineTuningDataset(filepath + '/dataset', tokenizer, mode='train', addnews=enablenews, length=200)\n",
    "if enable_trash:\n",
    "    trash_data = FineTuningDataset(filepath + '/dataset', tokenizer, mode='train', addnews=enablenews, length=320, trash=True)\n",
    "eval_data = FineTuningDataset(filepath + '/dataset', tokenizer, mode='valid', addnews=enablenews, length=10)"
   ]
  },
  {
   "cell_type": "code",
   "execution_count": 7,
   "metadata": {
    "colab": {
     "base_uri": "https://localhost:8080/",
     "height": 558,
     "referenced_widgets": [
      "2cd8d20d57c4415d94c715d21389ad91",
      "5f3fbc49cc634412b030b9c99acf1107",
      "1dd6c796050a4b9c8d336ad48b7732a9",
      "af2a381d63e3406998815eda438b6596",
      "48e688c9babb4f0282edb5cc1531dd68",
      "9aa7089fcba0440d86fd9fe68f71cf5e",
      "1f21419f217442868b396dbf2105d33d",
      "486e84afce1b4c5697633583ec784372"
     ]
    },
    "executionInfo": {
     "elapsed": 926210,
     "status": "error",
     "timestamp": 1616797693913,
     "user": {
      "displayName": "Сергей Исаев",
      "photoUrl": "",
      "userId": "16125203624123721798"
     },
     "user_tz": -180
    },
    "id": "BjTg-vw7X38c",
    "outputId": "a34f3e9e-b0a2-4898-940e-76c4c92e5de5"
   },
   "outputs": [
    {
     "data": {
      "application/vnd.jupyter.widget-view+json": {
       "model_id": "b5e9dab8366643619bb2187281af2700",
       "version_major": 2,
       "version_minor": 0
      },
      "text/plain": [
       "Training:   0%|          | 0/320 [00:00<?, ?it/s]"
      ]
     },
     "metadata": {},
     "output_type": "display_data"
    },
    {
     "name": "stdout",
     "output_type": "stream",
     "text": [
      "Step: 0; validation loss: 2.017832398414612\n",
      "Step: 10; loss: 2.744695484638214\n",
      "Step: 20; loss: 2.39229496717453\n",
      "Step: 30; loss: 2.0948919653892517\n",
      "Step: 40; loss: 2.0456962108612062\n",
      "Step: 50; loss: 1.905524206161499\n",
      "Step: 50; validation loss: 1.4457423031330108\n",
      "Step: 60; loss: 2.0527047753334045\n",
      "Step: 70; loss: 1.7390436947345733\n",
      "Step: 80; loss: 2.0440563321113587\n",
      "Step: 90; loss: 1.7129560589790345\n",
      "Step: 100; loss: 1.9657523393630982\n",
      "Step: 100; validation loss: 1.4232341051101685\n",
      "Step: 110; loss: 1.9156450986862184\n",
      "Step: 120; loss: 1.4878210186958314\n",
      "Step: 130; loss: 1.8335509598255157\n",
      "Step: 140; loss: 2.1168410062789915\n",
      "Step: 150; loss: 1.4607580363750459\n",
      "Step: 150; validation loss: 1.4426957011222838\n",
      "Step: 160; loss: 1.9130440831184388\n",
      "Step: 170; loss: 1.784747564792633\n",
      "Step: 180; loss: 1.7393852949142456\n",
      "Step: 190; loss: 1.7665969729423523\n",
      "Step: 200; loss: 1.5732300579547882\n",
      "Step: 200; validation loss: 1.4460708558559419\n",
      "Step: 210; loss: 1.827338981628418\n",
      "Step: 220; loss: 1.5993167400360107\n",
      "Step: 230; loss: 1.694795486330986\n",
      "Step: 240; loss: 1.5849376678466798\n",
      "Step: 250; loss: 1.4831196784973144\n",
      "Step: 250; validation loss: 1.4125048458576202\n",
      "Step: 260; loss: 1.8889007449150086\n",
      "Step: 270; loss: 1.7799801528453827\n",
      "Step: 280; loss: 1.933184063434601\n",
      "Step: 290; loss: 1.8705017387866973\n",
      "Step: 300; loss: 1.746658870577812\n",
      "Step: 300; validation loss: 1.3913476049900055\n",
      "Step: 310; loss: 1.4869144648313521\n",
      "Step: 320; loss: 1.5951363801956178\n"
     ]
    },
    {
     "data": {
      "application/vnd.jupyter.widget-view+json": {
       "model_id": "e6cad7c32394459e971db3604bc5e98a",
       "version_major": 2,
       "version_minor": 0
      },
      "text/plain": [
       "Training:   0%|          | 0/200 [00:00<?, ?it/s]"
      ]
     },
     "metadata": {},
     "output_type": "display_data"
    },
    {
     "name": "stdout",
     "output_type": "stream",
     "text": [
      "Step: 0; validation loss: 1.383796513080597\n",
      "Step: 10; loss: 1.6835374236106873\n",
      "Step: 20; loss: 1.554909771680832\n",
      "Step: 30; loss: 1.7516204297542572\n",
      "Step: 40; loss: 1.6227215230464935\n",
      "Step: 50; loss: 1.1976910412311554\n",
      "Step: 50; validation loss: 1.384033751487732\n",
      "Step: 60; loss: 1.7024429589509964\n",
      "Step: 70; loss: 1.4106873512268066\n",
      "Step: 80; loss: 1.4218810975551606\n",
      "Step: 90; loss: 1.414726510643959\n",
      "Step: 100; loss: 1.6808338314294815\n",
      "Step: 100; validation loss: 1.381706714630127\n",
      "Step: 110; loss: 1.4146191239356996\n",
      "Step: 120; loss: 1.7321368098258971\n",
      "Step: 130; loss: 1.5767818987369537\n",
      "Step: 140; loss: 1.6718943536281585\n",
      "Step: 150; loss: 1.4519405961036682\n",
      "Step: 150; validation loss: 1.3609151184558868\n",
      "Step: 160; loss: 1.6389724373817445\n",
      "Step: 170; loss: 1.769489012658596\n",
      "Step: 180; loss: 1.4944372475147247\n",
      "Step: 190; loss: 1.5277702450752257\n",
      "Step: 200; loss: 1.7421887338161468\n",
      "Step: 200; validation loss: 1.3520565748214721\n",
      "Total time: 2037.226572517554 minutes.\n",
      "Saving trained model...\n",
      "Saved.\n"
     ]
    }
   ],
   "source": [
    "start = time.time()\n",
    "if enable_trash:\n",
    "    finetune(\n",
    "        args, model, tokenizer, trash_data, eval_data,\n",
    "        model_file, config_file, log_file)\n",
    "log_text = finetune(\n",
    "    args, model, tokenizer, finetune_data, eval_data,\n",
    "    model_file, config_file, log_file)\n",
    "log_add = 'Step: {}; validation loss: {}'.format(\n",
    "    args.num_train_epochs*len(finetune_data),\n",
    "    evaluate(args, model, eval_data))\n",
    "log_text += log_add + '\\n'\n",
    "print(log_add)\n",
    "time_text = 'Total time: {} minutes.'.format((time.time()-start)/60)\n",
    "log_text += time_text + '\\n'\n",
    "print(time_text)\n",
    "my_file = open(log_file, 'w')\n",
    "my_file.write(log_text)\n",
    "my_file.close()\n",
    "\n",
    "print('Saving trained model...')\n",
    "torch.save(model.state_dict(), model_file)\n",
    "model.config.to_json_file(config_file)\n",
    "print('Saved.')"
   ]
  }
 ],
 "metadata": {
  "colab": {
   "collapsed_sections": [],
   "machine_shape": "hm",
   "name": "train_bio.ipynb",
   "provenance": []
  },
  "kernelspec": {
   "display_name": "Python 3",
   "language": "python",
   "name": "python3"
  },
  "language_info": {
   "codemirror_mode": {
    "name": "ipython",
    "version": 3
   },
   "file_extension": ".py",
   "mimetype": "text/x-python",
   "name": "python",
   "nbconvert_exporter": "python",
   "pygments_lexer": "ipython3",
   "version": "3.8.8"
  },
  "widgets": {
   "application/vnd.jupyter.widget-state+json": {
    "1dd6c796050a4b9c8d336ad48b7732a9": {
     "model_module": "@jupyter-widgets/controls",
     "model_name": "FloatProgressModel",
     "state": {
      "_dom_classes": [],
      "_model_module": "@jupyter-widgets/controls",
      "_model_module_version": "1.5.0",
      "_model_name": "FloatProgressModel",
      "_view_count": null,
      "_view_module": "@jupyter-widgets/controls",
      "_view_module_version": "1.5.0",
      "_view_name": "ProgressView",
      "bar_style": "danger",
      "description": "Training:  94%",
      "description_tooltip": null,
      "layout": "IPY_MODEL_9aa7089fcba0440d86fd9fe68f71cf5e",
      "max": 70,
      "min": 0,
      "orientation": "horizontal",
      "style": "IPY_MODEL_48e688c9babb4f0282edb5cc1531dd68",
      "value": 66
     }
    },
    "1f21419f217442868b396dbf2105d33d": {
     "model_module": "@jupyter-widgets/controls",
     "model_name": "DescriptionStyleModel",
     "state": {
      "_model_module": "@jupyter-widgets/controls",
      "_model_module_version": "1.5.0",
      "_model_name": "DescriptionStyleModel",
      "_view_count": null,
      "_view_module": "@jupyter-widgets/base",
      "_view_module_version": "1.2.0",
      "_view_name": "StyleView",
      "description_width": ""
     }
    },
    "2cd8d20d57c4415d94c715d21389ad91": {
     "model_module": "@jupyter-widgets/controls",
     "model_name": "HBoxModel",
     "state": {
      "_dom_classes": [],
      "_model_module": "@jupyter-widgets/controls",
      "_model_module_version": "1.5.0",
      "_model_name": "HBoxModel",
      "_view_count": null,
      "_view_module": "@jupyter-widgets/controls",
      "_view_module_version": "1.5.0",
      "_view_name": "HBoxView",
      "box_style": "",
      "children": [
       "IPY_MODEL_1dd6c796050a4b9c8d336ad48b7732a9",
       "IPY_MODEL_af2a381d63e3406998815eda438b6596"
      ],
      "layout": "IPY_MODEL_5f3fbc49cc634412b030b9c99acf1107"
     }
    },
    "486e84afce1b4c5697633583ec784372": {
     "model_module": "@jupyter-widgets/base",
     "model_name": "LayoutModel",
     "state": {
      "_model_module": "@jupyter-widgets/base",
      "_model_module_version": "1.2.0",
      "_model_name": "LayoutModel",
      "_view_count": null,
      "_view_module": "@jupyter-widgets/base",
      "_view_module_version": "1.2.0",
      "_view_name": "LayoutView",
      "align_content": null,
      "align_items": null,
      "align_self": null,
      "border": null,
      "bottom": null,
      "display": null,
      "flex": null,
      "flex_flow": null,
      "grid_area": null,
      "grid_auto_columns": null,
      "grid_auto_flow": null,
      "grid_auto_rows": null,
      "grid_column": null,
      "grid_gap": null,
      "grid_row": null,
      "grid_template_areas": null,
      "grid_template_columns": null,
      "grid_template_rows": null,
      "height": null,
      "justify_content": null,
      "justify_items": null,
      "left": null,
      "margin": null,
      "max_height": null,
      "max_width": null,
      "min_height": null,
      "min_width": null,
      "object_fit": null,
      "object_position": null,
      "order": null,
      "overflow": null,
      "overflow_x": null,
      "overflow_y": null,
      "padding": null,
      "right": null,
      "top": null,
      "visibility": null,
      "width": null
     }
    },
    "48e688c9babb4f0282edb5cc1531dd68": {
     "model_module": "@jupyter-widgets/controls",
     "model_name": "ProgressStyleModel",
     "state": {
      "_model_module": "@jupyter-widgets/controls",
      "_model_module_version": "1.5.0",
      "_model_name": "ProgressStyleModel",
      "_view_count": null,
      "_view_module": "@jupyter-widgets/base",
      "_view_module_version": "1.2.0",
      "_view_name": "StyleView",
      "bar_color": null,
      "description_width": "initial"
     }
    },
    "5f3fbc49cc634412b030b9c99acf1107": {
     "model_module": "@jupyter-widgets/base",
     "model_name": "LayoutModel",
     "state": {
      "_model_module": "@jupyter-widgets/base",
      "_model_module_version": "1.2.0",
      "_model_name": "LayoutModel",
      "_view_count": null,
      "_view_module": "@jupyter-widgets/base",
      "_view_module_version": "1.2.0",
      "_view_name": "LayoutView",
      "align_content": null,
      "align_items": null,
      "align_self": null,
      "border": null,
      "bottom": null,
      "display": null,
      "flex": null,
      "flex_flow": null,
      "grid_area": null,
      "grid_auto_columns": null,
      "grid_auto_flow": null,
      "grid_auto_rows": null,
      "grid_column": null,
      "grid_gap": null,
      "grid_row": null,
      "grid_template_areas": null,
      "grid_template_columns": null,
      "grid_template_rows": null,
      "height": null,
      "justify_content": null,
      "justify_items": null,
      "left": null,
      "margin": null,
      "max_height": null,
      "max_width": null,
      "min_height": null,
      "min_width": null,
      "object_fit": null,
      "object_position": null,
      "order": null,
      "overflow": null,
      "overflow_x": null,
      "overflow_y": null,
      "padding": null,
      "right": null,
      "top": null,
      "visibility": null,
      "width": null
     }
    },
    "9aa7089fcba0440d86fd9fe68f71cf5e": {
     "model_module": "@jupyter-widgets/base",
     "model_name": "LayoutModel",
     "state": {
      "_model_module": "@jupyter-widgets/base",
      "_model_module_version": "1.2.0",
      "_model_name": "LayoutModel",
      "_view_count": null,
      "_view_module": "@jupyter-widgets/base",
      "_view_module_version": "1.2.0",
      "_view_name": "LayoutView",
      "align_content": null,
      "align_items": null,
      "align_self": null,
      "border": null,
      "bottom": null,
      "display": null,
      "flex": null,
      "flex_flow": null,
      "grid_area": null,
      "grid_auto_columns": null,
      "grid_auto_flow": null,
      "grid_auto_rows": null,
      "grid_column": null,
      "grid_gap": null,
      "grid_row": null,
      "grid_template_areas": null,
      "grid_template_columns": null,
      "grid_template_rows": null,
      "height": null,
      "justify_content": null,
      "justify_items": null,
      "left": null,
      "margin": null,
      "max_height": null,
      "max_width": null,
      "min_height": null,
      "min_width": null,
      "object_fit": null,
      "object_position": null,
      "order": null,
      "overflow": null,
      "overflow_x": null,
      "overflow_y": null,
      "padding": null,
      "right": null,
      "top": null,
      "visibility": null,
      "width": null
     }
    },
    "af2a381d63e3406998815eda438b6596": {
     "model_module": "@jupyter-widgets/controls",
     "model_name": "HTMLModel",
     "state": {
      "_dom_classes": [],
      "_model_module": "@jupyter-widgets/controls",
      "_model_module_version": "1.5.0",
      "_model_name": "HTMLModel",
      "_view_count": null,
      "_view_module": "@jupyter-widgets/controls",
      "_view_module_version": "1.5.0",
      "_view_name": "HTMLView",
      "description": "",
      "description_tooltip": null,
      "layout": "IPY_MODEL_486e84afce1b4c5697633583ec784372",
      "placeholder": "​",
      "style": "IPY_MODEL_1f21419f217442868b396dbf2105d33d",
      "value": " 66/70 [14:45&lt;00:45, 11.48s/it]"
     }
    }
   }
  }
 },
 "nbformat": 4,
 "nbformat_minor": 1
}
